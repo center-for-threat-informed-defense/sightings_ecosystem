{
 "cells": [
  {
   "cell_type": "code",
   "execution_count": 8,
   "id": "fbb6eba0-ab98-483c-838b-00801727c6b0",
   "metadata": {
    "tags": []
   },
   "outputs": [
    {
     "name": "stdout",
     "output_type": "stream",
     "text": [
      "Pandas has been imported\n"
     ]
    }
   ],
   "source": [
    "import pandas as pd\n",
    "import os\n",
    "import glob\n",
    "print(\"Pandas has been imported\")"
   ]
  },
  {
   "cell_type": "code",
   "execution_count": 9,
   "id": "75c97fbb-a2a7-4a8a-895a-66f95e16f047",
   "metadata": {
    "tags": []
   },
   "outputs": [
    {
     "data": {
      "text/html": [
       "<div>\n",
       "<style scoped>\n",
       "    .dataframe tbody tr th:only-of-type {\n",
       "        vertical-align: middle;\n",
       "    }\n",
       "\n",
       "    .dataframe tbody tr th {\n",
       "        vertical-align: top;\n",
       "    }\n",
       "\n",
       "    .dataframe thead th {\n",
       "        text-align: right;\n",
       "    }\n",
       "</style>\n",
       "<table border=\"1\" class=\"dataframe\">\n",
       "  <thead>\n",
       "    <tr style=\"text-align: right;\">\n",
       "      <th></th>\n",
       "      <th>TID</th>\n",
       "      <th>count</th>\n",
       "    </tr>\n",
       "  </thead>\n",
       "  <tbody>\n",
       "    <tr>\n",
       "      <th>0</th>\n",
       "      <td>T1001</td>\n",
       "      <td>4</td>\n",
       "    </tr>\n",
       "    <tr>\n",
       "      <th>1</th>\n",
       "      <td>T1003</td>\n",
       "      <td>387</td>\n",
       "    </tr>\n",
       "    <tr>\n",
       "      <th>2</th>\n",
       "      <td>T1005</td>\n",
       "      <td>5</td>\n",
       "    </tr>\n",
       "    <tr>\n",
       "      <th>3</th>\n",
       "      <td>T1012</td>\n",
       "      <td>1</td>\n",
       "    </tr>\n",
       "    <tr>\n",
       "      <th>4</th>\n",
       "      <td>T1014</td>\n",
       "      <td>1</td>\n",
       "    </tr>\n",
       "    <tr>\n",
       "      <th>...</th>\n",
       "      <td>...</td>\n",
       "      <td>...</td>\n",
       "    </tr>\n",
       "    <tr>\n",
       "      <th>357</th>\n",
       "      <td>T1587</td>\n",
       "      <td>1</td>\n",
       "    </tr>\n",
       "    <tr>\n",
       "      <th>358</th>\n",
       "      <td>T1590</td>\n",
       "      <td>1</td>\n",
       "    </tr>\n",
       "    <tr>\n",
       "      <th>359</th>\n",
       "      <td>T1620</td>\n",
       "      <td>5</td>\n",
       "    </tr>\n",
       "    <tr>\n",
       "      <th>360</th>\n",
       "      <td>T1621</td>\n",
       "      <td>4</td>\n",
       "    </tr>\n",
       "    <tr>\n",
       "      <th>361</th>\n",
       "      <td>T1649</td>\n",
       "      <td>1</td>\n",
       "    </tr>\n",
       "  </tbody>\n",
       "</table>\n",
       "<p>362 rows × 2 columns</p>\n",
       "</div>"
      ],
      "text/plain": [
       "       TID  count\n",
       "0    T1001      4\n",
       "1    T1003    387\n",
       "2    T1005      5\n",
       "3    T1012      1\n",
       "4    T1014      1\n",
       "..     ...    ...\n",
       "357  T1587      1\n",
       "358  T1590      1\n",
       "359  T1620      5\n",
       "360  T1621      4\n",
       "361  T1649      1\n",
       "\n",
       "[362 rows x 2 columns]"
      ]
     },
     "execution_count": 9,
     "metadata": {},
     "output_type": "execute_result"
    }
   ],
   "source": [
    "#if multiple csv files, create directory for csv files and change this path to that directory that\n",
    "file_path = 'C:\\\\Users\\\\lparker\\\\OneDrive - The MITRE Corporation\\\\Sightings\\\\Analysis\\\\yearly_main_tid_counts'\n",
    "all_files = glob.glob(os.path.join(file_path, \"*.csv\"))\n",
    "df_files = pd.DataFrame()\n",
    "#append all files together\n",
    "for file in all_files:\n",
    "            df_temp = pd.read_csv(file)\n",
    "            df_files = df_files._append(df_temp, ignore_index=True)\n",
    "df_files"
   ]
  },
  {
   "cell_type": "code",
   "execution_count": 10,
   "id": "206f6f7f-e44d-4bc5-89da-00ec7213b023",
   "metadata": {
    "tags": []
   },
   "outputs": [
    {
     "name": "stdout",
     "output_type": "stream",
     "text": [
      "TID\n",
      "T1001      240\n",
      "T1003    35794\n",
      "T1005    10324\n",
      "T1006       62\n",
      "T1007       38\n",
      "         ...  \n",
      "T1614     1448\n",
      "T1620      160\n",
      "T1621        4\n",
      "T1622       62\n",
      "T1649        2\n",
      "Name: count, Length: 175, dtype: int64\n"
     ]
    }
   ],
   "source": [
    "\n",
    "result_df = df_files.groupby(['TID'])['count'].sum()\n",
    "print(result_df)\n",
    "result_df.to_csv('C:\\\\Users\\\\lparker\\\\OneDrive - The MITRE Corporation\\\\Sightings\\\\Analysis\\\\ALL_counts_for_main_tid.csv')\n",
    "#final = result_df.sort_values(['count'], ascending=[False])\n",
    "#final"
   ]
  },
  {
   "cell_type": "code",
   "execution_count": null,
   "id": "ae0e49d2-3398-481c-b914-549b4138d3b9",
   "metadata": {},
   "outputs": [],
   "source": []
  }
 ],
 "metadata": {
  "kernelspec": {
   "display_name": "Python 3 (ipykernel)",
   "language": "python",
   "name": "python3"
  },
  "language_info": {
   "codemirror_mode": {
    "name": "ipython",
    "version": 3
   },
   "file_extension": ".py",
   "mimetype": "text/x-python",
   "name": "python",
   "nbconvert_exporter": "python",
   "pygments_lexer": "ipython3",
   "version": "3.11.5"
  }
 },
 "nbformat": 4,
 "nbformat_minor": 5
}
