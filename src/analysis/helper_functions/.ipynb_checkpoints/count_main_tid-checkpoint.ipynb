{
 "cells": [
  {
   "cell_type": "code",
   "execution_count": 77,
   "id": "21a39bd2-2c80-41cb-9847-3cd2e1045a39",
   "metadata": {
    "tags": []
   },
   "outputs": [
    {
     "name": "stdout",
     "output_type": "stream",
     "text": [
      "Pandas has been imported\n"
     ]
    }
   ],
   "source": [
    "import pandas as pd\n",
    "import os\n",
    "import glob\n",
    "print(\"Pandas has been imported\")"
   ]
  },
  {
   "cell_type": "code",
   "execution_count": 78,
   "id": "befe42d7-b658-4f5c-b1fe-620a6ffbca84",
   "metadata": {
    "tags": []
   },
   "outputs": [
    {
     "data": {
      "text/html": [
       "<div>\n",
       "<style scoped>\n",
       "    .dataframe tbody tr th:only-of-type {\n",
       "        vertical-align: middle;\n",
       "    }\n",
       "\n",
       "    .dataframe tbody tr th {\n",
       "        vertical-align: top;\n",
       "    }\n",
       "\n",
       "    .dataframe thead th {\n",
       "        text-align: right;\n",
       "    }\n",
       "</style>\n",
       "<table border=\"1\" class=\"dataframe\">\n",
       "  <thead>\n",
       "    <tr style=\"text-align: right;\">\n",
       "      <th></th>\n",
       "      <th>sighting.start_time</th>\n",
       "      <th>main_tid</th>\n",
       "    </tr>\n",
       "  </thead>\n",
       "  <tbody>\n",
       "    <tr>\n",
       "      <th>0</th>\n",
       "      <td>Sep 18, 2023 @ 06:21:42.000</td>\n",
       "      <td>T1110</td>\n",
       "    </tr>\n",
       "    <tr>\n",
       "      <th>1</th>\n",
       "      <td>Sep 18, 2023 @ 05:28:06.000</td>\n",
       "      <td>T1046</td>\n",
       "    </tr>\n",
       "    <tr>\n",
       "      <th>2</th>\n",
       "      <td>Sep 18, 2023 @ 05:15:46.000</td>\n",
       "      <td>T1049, T1057, T1082</td>\n",
       "    </tr>\n",
       "    <tr>\n",
       "      <th>3</th>\n",
       "      <td>Sep 18, 2023 @ 04:48:15.000</td>\n",
       "      <td>T1078, T1098</td>\n",
       "    </tr>\n",
       "    <tr>\n",
       "      <th>4</th>\n",
       "      <td>Sep 18, 2023 @ 04:27:18.000</td>\n",
       "      <td>T1046</td>\n",
       "    </tr>\n",
       "    <tr>\n",
       "      <th>...</th>\n",
       "      <td>...</td>\n",
       "      <td>...</td>\n",
       "    </tr>\n",
       "    <tr>\n",
       "      <th>553275</th>\n",
       "      <td>Jan 1, 2023 @ 14:40:56.842</td>\n",
       "      <td>T1003</td>\n",
       "    </tr>\n",
       "    <tr>\n",
       "      <th>553276</th>\n",
       "      <td>Jan 1, 2023 @ 14:40:56.842</td>\n",
       "      <td>T1003</td>\n",
       "    </tr>\n",
       "    <tr>\n",
       "      <th>553277</th>\n",
       "      <td>Jan 1, 2023 @ 14:40:56.842</td>\n",
       "      <td>T1003</td>\n",
       "    </tr>\n",
       "    <tr>\n",
       "      <th>553278</th>\n",
       "      <td>Jan 1, 2023 @ 09:57:56.747</td>\n",
       "      <td>T1059</td>\n",
       "    </tr>\n",
       "    <tr>\n",
       "      <th>553279</th>\n",
       "      <td>Jan 1, 2023 @ 09:57:56.747</td>\n",
       "      <td>T1059</td>\n",
       "    </tr>\n",
       "  </tbody>\n",
       "</table>\n",
       "<p>553280 rows × 2 columns</p>\n",
       "</div>"
      ],
      "text/plain": [
       "                sighting.start_time             main_tid\n",
       "0       Sep 18, 2023 @ 06:21:42.000                T1110\n",
       "1       Sep 18, 2023 @ 05:28:06.000                T1046\n",
       "2       Sep 18, 2023 @ 05:15:46.000  T1049, T1057, T1082\n",
       "3       Sep 18, 2023 @ 04:48:15.000         T1078, T1098\n",
       "4       Sep 18, 2023 @ 04:27:18.000                T1046\n",
       "...                             ...                  ...\n",
       "553275   Jan 1, 2023 @ 14:40:56.842                T1003\n",
       "553276   Jan 1, 2023 @ 14:40:56.842                T1003\n",
       "553277   Jan 1, 2023 @ 14:40:56.842                T1003\n",
       "553278   Jan 1, 2023 @ 09:57:56.747                T1059\n",
       "553279   Jan 1, 2023 @ 09:57:56.747                T1059\n",
       "\n",
       "[553280 rows x 2 columns]"
      ]
     },
     "execution_count": 78,
     "metadata": {},
     "output_type": "execute_result"
    }
   ],
   "source": [
    "#if multiple csv files, create directory for csv files and change this path to that directory that\n",
    "file_path = 'C:\\\\Users\\\\lparker\\\\OneDrive - The MITRE Corporation\\\\Sightings\\\\2023_main_tid_csvs'\n",
    "all_files = glob.glob(os.path.join(file_path, \"*.csv\"))\n",
    "df_files = pd.DataFrame()\n",
    "#append all files together\n",
    "for file in all_files:\n",
    "            df_temp = pd.read_csv(file)\n",
    "            df_files = df_files._append(df_temp, ignore_index=True)\n",
    "df_files"
   ]
  },
  {
   "cell_type": "code",
   "execution_count": 79,
   "id": "8f03e2d4-1c0c-42a8-be89-8cd9c5f5571f",
   "metadata": {
    "tags": []
   },
   "outputs": [
    {
     "data": {
      "text/html": [
       "<div>\n",
       "<style scoped>\n",
       "    .dataframe tbody tr th:only-of-type {\n",
       "        vertical-align: middle;\n",
       "    }\n",
       "\n",
       "    .dataframe tbody tr th {\n",
       "        vertical-align: top;\n",
       "    }\n",
       "\n",
       "    .dataframe thead th {\n",
       "        text-align: right;\n",
       "    }\n",
       "</style>\n",
       "<table border=\"1\" class=\"dataframe\">\n",
       "  <thead>\n",
       "    <tr style=\"text-align: right;\">\n",
       "      <th></th>\n",
       "      <th>TID</th>\n",
       "    </tr>\n",
       "  </thead>\n",
       "  <tbody>\n",
       "    <tr>\n",
       "      <th>0</th>\n",
       "      <td>T1018</td>\n",
       "    </tr>\n",
       "    <tr>\n",
       "      <th>1</th>\n",
       "      <td>T1036</td>\n",
       "    </tr>\n",
       "    <tr>\n",
       "      <th>2</th>\n",
       "      <td>T1547</td>\n",
       "    </tr>\n",
       "    <tr>\n",
       "      <th>3</th>\n",
       "      <td>T1071</td>\n",
       "    </tr>\n",
       "    <tr>\n",
       "      <th>4</th>\n",
       "      <td>T1071</td>\n",
       "    </tr>\n",
       "    <tr>\n",
       "      <th>...</th>\n",
       "      <td>...</td>\n",
       "    </tr>\n",
       "    <tr>\n",
       "      <th>168914</th>\n",
       "      <td>T1218</td>\n",
       "    </tr>\n",
       "    <tr>\n",
       "      <th>168915</th>\n",
       "      <td>T1218</td>\n",
       "    </tr>\n",
       "    <tr>\n",
       "      <th>168916</th>\n",
       "      <td>T1003, T1552</td>\n",
       "    </tr>\n",
       "    <tr>\n",
       "      <th>168917</th>\n",
       "      <td>T1003, T1552</td>\n",
       "    </tr>\n",
       "    <tr>\n",
       "      <th>168918</th>\n",
       "      <td>T1003, T1552</td>\n",
       "    </tr>\n",
       "  </tbody>\n",
       "</table>\n",
       "<p>168919 rows × 1 columns</p>\n",
       "</div>"
      ],
      "text/plain": [
       "                 TID\n",
       "0              T1018\n",
       "1              T1036\n",
       "2              T1547\n",
       "3              T1071\n",
       "4              T1071\n",
       "...              ...\n",
       "168914         T1218\n",
       "168915         T1218\n",
       "168916  T1003, T1552\n",
       "168917  T1003, T1552\n",
       "168918  T1003, T1552\n",
       "\n",
       "[168919 rows x 1 columns]"
      ]
     },
     "execution_count": 79,
     "metadata": {},
     "output_type": "execute_result"
    }
   ],
   "source": [
    "#change to location where csv is located\n",
    "#tdata = pd.read_csv('C:\\\\Users\\\\lparker\\\\Downloads\\\\2021_main_tid.csv')\n",
    "\n",
    "#rename 'sighting.start_time' and 'sighting.tid.keyword' to what your column headers are in the csv\n",
    "df_files = tdata.rename({'sighting.start_time': 'date', 'main_tid': 'TID'}, axis=1)\n",
    "\n",
    "df2 = df_files.drop(['date'], axis=1)\n",
    "df2"
   ]
  },
  {
   "cell_type": "code",
   "execution_count": 80,
   "id": "bbd3a385-1e47-4c30-afbf-57f42c0b7895",
   "metadata": {
    "scrolled": true,
    "tags": []
   },
   "outputs": [],
   "source": [
    "tid_list = df2['TID'].tolist()\n",
    "\n",
    "newlist = []\n",
    "for x in tid_list:\n",
    " #   x = str(x)\n",
    "  #  print(x)\n",
    "    if ',' in x:\n",
    "        temp = x.split(', ')\n",
    "        for y in temp:\n",
    "            newlist.append(y)\n",
    "    else:\n",
    "        newlist.append(x)\n",
    "\n"
   ]
  },
  {
   "cell_type": "code",
   "execution_count": 81,
   "id": "e7e17fc3-047a-4e91-af7a-247b518d323b",
   "metadata": {
    "tags": []
   },
   "outputs": [
    {
     "name": "stdout",
     "output_type": "stream",
     "text": [
      "409980\n"
     ]
    }
   ],
   "source": [
    "print(len(newlist))"
   ]
  },
  {
   "cell_type": "code",
   "execution_count": 82,
   "id": "92ea0986-f563-4bcf-b21f-81eb6d682003",
   "metadata": {
    "tags": []
   },
   "outputs": [
    {
     "name": "stdout",
     "output_type": "stream",
     "text": [
      "          TID\n",
      "0       T1018\n",
      "1       T1036\n",
      "2       T1547\n",
      "3       T1071\n",
      "4       T1071\n",
      "...       ...\n",
      "409975  T1552\n",
      "409976  T1003\n",
      "409977  T1552\n",
      "409978  T1003\n",
      "409979  T1552\n",
      "\n",
      "[409980 rows x 1 columns]\n"
     ]
    }
   ],
   "source": [
    "tid_df = pd.DataFrame(newlist, columns = [\"TID\"])\n",
    "print(tid_df)"
   ]
  },
  {
   "cell_type": "code",
   "execution_count": 83,
   "id": "bcd5457c-7c48-4995-956e-64cbc4663f77",
   "metadata": {
    "tags": []
   },
   "outputs": [
    {
     "name": "stdout",
     "output_type": "stream",
     "text": [
      "TID\n",
      "T1001      4\n",
      "T1003    387\n",
      "T1005      5\n",
      "T1012      1\n",
      "T1014      1\n",
      "        ... \n",
      "T1572     60\n",
      "T1574    144\n",
      "T1595      1\n",
      "T1620     31\n",
      "T1649      1\n",
      "Name: count, Length: 78, dtype: int64\n"
     ]
    }
   ],
   "source": [
    "tid_df['count'] = [1 for _ in range(len(tid_df))]\n",
    "tid_df\n",
    "\n",
    "\n",
    "result_df = tid_df.groupby(['TID'])['count'].sum()\n",
    "print(result_df)\n",
    "result_df.to_csv('C:\\\\Users\\\\lparker\\\\OneDrive - The MITRE Corporation\\\\Sightings\\\\Analysis\\\\yearly_main_tid_counts\\\\2023_count_for_main_tid.csv')\n",
    "#final = result_df.sort_values(['count'], ascending=[False])\n",
    "#final"
   ]
  },
  {
   "cell_type": "code",
   "execution_count": null,
   "id": "b1dfa043-cdff-4514-a648-c6e7edf86dd3",
   "metadata": {},
   "outputs": [],
   "source": [
    "    "
   ]
  }
 ],
 "metadata": {
  "kernelspec": {
   "display_name": "Python 3 (ipykernel)",
   "language": "python",
   "name": "python3"
  },
  "language_info": {
   "codemirror_mode": {
    "name": "ipython",
    "version": 3
   },
   "file_extension": ".py",
   "mimetype": "text/x-python",
   "name": "python",
   "nbconvert_exporter": "python",
   "pygments_lexer": "ipython3",
   "version": "3.11.5"
  }
 },
 "nbformat": 4,
 "nbformat_minor": 5
}
