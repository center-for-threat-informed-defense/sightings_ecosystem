{
 "cells": [
  {
   "cell_type": "code",
   "execution_count": 2,
   "id": "e0b6237b-bf12-4a8b-90bf-7ab4a06258a4",
   "metadata": {
    "tags": []
   },
   "outputs": [
    {
     "ename": "ModuleNotFoundError",
     "evalue": "No module named 'helper_functions'",
     "output_type": "error",
     "traceback": [
      "\u001b[1;31m---------------------------------------------------------------------------\u001b[0m",
      "\u001b[1;31mModuleNotFoundError\u001b[0m                       Traceback (most recent call last)",
      "Cell \u001b[1;32mIn[2], line 9\u001b[0m\n\u001b[0;32m      7\u001b[0m \u001b[38;5;66;03m# --------------------- Setup for DiGraph of techniques\u001b[39;00m\n\u001b[0;32m      8\u001b[0m \u001b[38;5;28;01mimport\u001b[39;00m \u001b[38;5;21;01mpsycopg2\u001b[39;00m\n\u001b[1;32m----> 9\u001b[0m \u001b[38;5;28;01mfrom\u001b[39;00m \u001b[38;5;21;01mhelper_functions\u001b[39;00m\u001b[38;5;21;01m.\u001b[39;00m\u001b[38;5;21;01mrules_object\u001b[39;00m \u001b[38;5;28;01mimport\u001b[39;00m AssociativeRules\n\u001b[0;32m     12\u001b[0m \u001b[38;5;28;01mdef\u001b[39;00m \u001b[38;5;21mget_graph\u001b[39m(sighting_db_conn_str):\n\u001b[0;32m     13\u001b[0m     connection \u001b[38;5;241m=\u001b[39m psycopg2\u001b[38;5;241m.\u001b[39mconnect(sighting_db_conn_str)\n",
      "\u001b[1;31mModuleNotFoundError\u001b[0m: No module named 'helper_functions'"
     ]
    }
   ],
   "source": [
    "\"\"\"\n",
    "Support script for rule mining analysis used in dash website\n",
    "\"\"\"\n",
    "import networkx as nx\n",
    "import pandas as pd\n",
    "\n",
    "# --------------------- Setup for DiGraph of techniques\n",
    "import psycopg2\n",
    "from helper_functions.rules_object import AssociativeRules\n",
    "\n",
    "\n",
    "def get_graph(sighting_db_conn_str):\n",
    "    connection = psycopg2.connect(sighting_db_conn_str)\n",
    "\n",
    "    cursor = connection.cursor()\n",
    "    cursor.execute(\"drop view if exists sequences; \")\n",
    "    cursor.execute(\n",
    "        (\n",
    "            \"CREATE VIEW sequences AS\\n\"\n",
    "            \"   SELECT sighting_pid, string_agg(technique_id,',')\"\n",
    "            \" AS seq, count(*) AS len\\n\"\n",
    "            \"   FROM public.flattened_sightings\\n\"\n",
    "            \"   GROUP BY sighting_pid\\n\"\n",
    "            \"   ORDER BY len DESC;\"\n",
    "        )\n",
    "    )\n",
    "    # TODO should this query end with 'len>1' or 'len>=1'\n",
    "    cursor.execute(\"select seq from sequences where len>=1;\")\n",
    "    technique_freqs = cursor.fetchall()\n",
    "\n",
    "    df_sequence = pd.DataFrame(technique_freqs, columns=[\"sequence_string\"], dtype=\"string\")\n",
    "    df_sequence[\"sequence_set\"] = df_sequence[\"sequence_string\"].apply(lambda x: set(x.split(\",\")))\n",
    "\n",
    "    rules_sets = AssociativeRules(groups=df_sequence[\"sequence_set\"], order=False, threshold=0.5, rule_filter=\"conf\")\n",
    "    rules_sets.find_assoc_rules()\n",
    "    list_of_rules = rules_sets.list_of_rules\n",
    "\n",
    "    df = pd.DataFrame(list_of_rules, columns=[\"source\", \"target\", \"conf\"])\n",
    "    # Graph\n",
    "    G = nx.from_pandas_edgelist(df, source=\"source\", target=\"target\", edge_attr=\"conf\", create_using=nx.DiGraph)\n",
    "\n",
    "    stylesheet = [\n",
    "        {\n",
    "            \"selector\": \"node\",\n",
    "            \"css\": {\n",
    "                \"content\": \"data(id)\",\n",
    "                \"text-valign\": \"center\",\n",
    "                \"color\": \"white\",\n",
    "                \"text-outline-width\": 2,\n",
    "                \"text-outline-color\": \"blue\",\n",
    "                \"text-wrap\": \"wrap\",\n",
    "                \"text-max-width\": \"10px\",\n",
    "                \"text-overflow-wrap\": \"whitespace\",\n",
    "                \"background-color\": \"blue\",\n",
    "            },\n",
    "        },\n",
    "        {\n",
    "            \"selector\": \"edge\",\n",
    "            \"css\": {\"mid-target-arrow-shape\": \"triangle\", \"mid-target-arrow-fill\": \"filled\", \"arrow-scale\": 1},\n",
    "        },\n",
    "    ]\n",
    "\n",
    "    cursor.close()\n",
    "    connection.close()\n",
    "    return G, stylesheet\n",
    "\n",
    "\n",
    "def get_verbage():\n",
    "    title = \"Which Techniques Occur Together?\"\n",
    "    blurb = (\n",
    "        \"Techniques are visualized as nodes of the network graph\"\n",
    "        \" and Association Rule mining was used to find techniques\"\n",
    "        \" that tend to co-occur. If technique-B tends to occur\"\n",
    "        \" when technique-A occurs, n arrow is drawn from A to B.\"\n",
    "    )\n",
    "    return title, blurb\n"
   ]
  }
 ],
 "metadata": {
  "kernelspec": {
   "display_name": "Python 3 (ipykernel)",
   "language": "python",
   "name": "python3"
  },
  "language_info": {
   "codemirror_mode": {
    "name": "ipython",
    "version": 3
   },
   "file_extension": ".py",
   "mimetype": "text/x-python",
   "name": "python",
   "nbconvert_exporter": "python",
   "pygments_lexer": "ipython3",
   "version": "3.11.5"
  }
 },
 "nbformat": 4,
 "nbformat_minor": 5
}
