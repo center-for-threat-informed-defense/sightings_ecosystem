{
 "cells": [
  {
   "cell_type": "code",
   "execution_count": 1,
   "id": "075331d2-0ce6-4037-aa07-8652e4036151",
   "metadata": {
    "tags": []
   },
   "outputs": [],
   "source": [
    "import json\n",
    "import logging\n",
    "import os\n",
    "\n",
    "\n",
    "def get_data_files(base_dir=None):\n",
    "    files = []\n",
    "    files = [\n",
    "        os.path.join(root, name) for root, dirs, files in os.walk(base_dir) for name in files if name.endswith(\".json\")\n",
    "    ]\n",
    "    return files\n",
    "\n",
    "\n",
    "def load_data(file):\n",
    "    data = None\n",
    "    try:\n",
    "        with open(file) as f:\n",
    "            data = json.load(f)\n",
    "    except Exception as e:\n",
    "        logging.error(\"{}: {}\".format(__file__, str(e)))\n",
    "    finally:\n",
    "        return data\n",
    "\n",
    "\n",
    "def load_data_str(str):\n",
    "    data = None\n",
    "    try:\n",
    "        data = json.loads(str)\n",
    "    except Exception as e:\n",
    "        logging.error(\"{}: {}\".format(__file__, str(e)))\n",
    "    finally:\n",
    "        return data\n",
    "\n",
    "\n",
    "def save_data(file, data):\n",
    "    try:\n",
    "        with open(file, \"w\") as f:\n",
    "            f.write(obj_to_json(data))\n",
    "    except Exception as e:\n",
    "        logging.error(\"{}: {}\".format(__file__, str(e)))\n",
    "\n",
    "\n",
    "def obj_to_json(obj):\n",
    "    jstr = None\n",
    "    try:\n",
    "        jstr = json.dumps(obj)\n",
    "    except Exception as e:  # pragma: no cover\n",
    "        logging.error(\"{}: {}\".format(__file__, str(e)))\n",
    "    finally:\n",
    "        return jstr\n",
    "\n",
    "\n",
    "def print_overtop(str, end=\"\"):  # pragma: no cover\n",
    "    \"\"\"\n",
    "    print overtop the current line\n",
    "    useful for showing progress without spamming console\n",
    "    \"\"\"\n",
    "    print(\"\", end=\"\\x1b[1K\\r\", flush=True)\n",
    "    print(str, end=end, flush=True)\n"
   ]
  },
  {
   "cell_type": "code",
   "execution_count": null,
   "id": "ec1412b8-86e2-45f9-9423-7a962ca7b9e9",
   "metadata": {},
   "outputs": [],
   "source": []
  }
 ],
 "metadata": {
  "kernelspec": {
   "display_name": "Python 3 (ipykernel)",
   "language": "python",
   "name": "python3"
  },
  "language_info": {
   "codemirror_mode": {
    "name": "ipython",
    "version": 3
   },
   "file_extension": ".py",
   "mimetype": "text/x-python",
   "name": "python",
   "nbconvert_exporter": "python",
   "pygments_lexer": "ipython3",
   "version": "3.11.5"
  }
 },
 "nbformat": 4,
 "nbformat_minor": 5
}
