{
 "cells": [
  {
   "cell_type": "code",
   "execution_count": 1,
   "id": "3219bd84-9b16-4b5b-8f8e-02b9d7dd1e9c",
   "metadata": {
    "tags": []
   },
   "outputs": [
    {
     "ename": "ModuleNotFoundError",
     "evalue": "No module named 'objects'",
     "output_type": "error",
     "traceback": [
      "\u001b[1;31m---------------------------------------------------------------------------\u001b[0m",
      "\u001b[1;31mModuleNotFoundError\u001b[0m                       Traceback (most recent call last)",
      "Cell \u001b[1;32mIn[1], line 1\u001b[0m\n\u001b[1;32m----> 1\u001b[0m \u001b[38;5;28;01mfrom\u001b[39;00m \u001b[38;5;21;01mobjects\u001b[39;00m\u001b[38;5;21;01m.\u001b[39;00m\u001b[38;5;21;01mtechnique\u001b[39;00m \u001b[38;5;28;01mimport\u001b[39;00m Technique\n\u001b[0;32m      2\u001b[0m \u001b[38;5;28;01mfrom\u001b[39;00m \u001b[38;5;21;01msqlalchemy\u001b[39;00m \u001b[38;5;28;01mimport\u001b[39;00m Column, DateTime, Integer, Sequence, String\n\u001b[0;32m      3\u001b[0m \u001b[38;5;28;01mfrom\u001b[39;00m \u001b[38;5;21;01msqlalchemy\u001b[39;00m\u001b[38;5;21;01m.\u001b[39;00m\u001b[38;5;21;01mext\u001b[39;00m\u001b[38;5;21;01m.\u001b[39;00m\u001b[38;5;21;01mdeclarative\u001b[39;00m \u001b[38;5;28;01mimport\u001b[39;00m declarative_base\n",
      "\u001b[1;31mModuleNotFoundError\u001b[0m: No module named 'objects'"
     ]
    }
   ],
   "source": [
    "from objects.technique import Technique\n",
    "from sqlalchemy import Column, DateTime, Integer, Sequence, String\n",
    "from sqlalchemy.ext.declarative import declarative_base\n",
    "\n",
    "base = declarative_base()\n",
    "\n",
    "\n",
    "class SightingTable(base):\n",
    "    __tablename__ = \"sighting\"\n",
    "    __table_args__ = {\"extend_existing\": True}\n",
    "    sighting_pid = Column(Integer, Sequence(\"sighting_seq\"), primary_key=True)\n",
    "    id = Column(String, unique=False)\n",
    "    sighting_type = Column(String, nullable=False)\n",
    "    start_time = Column(DateTime, nullable=False)\n",
    "    detection_type = Column(String, nullable=False)\n",
    "    software = Column(String)\n",
    "    hash = Column(String)\n",
    "    cid = Column(String, nullable=True)\n",
    "\n",
    "\n",
    "class TechniqueTable(base):\n",
    "    __tablename__ = \"technique\"\n",
    "    __table_args__ = {\"extend_existing\": True}\n",
    "    technique_pid = Column(Integer, Sequence(\"technique_seq\"), primary_key=True)\n",
    "    technique_id = Column(String, nullable=False)\n",
    "    sub_technique_id = Column(String)\n",
    "    platform = Column(String)\n",
    "    start_time = Column(DateTime)\n",
    "    tactic = Column(String)\n",
    "    raw_data = Column(String)\n",
    "    sighting_id = Column(Integer)\n",
    "\n",
    "\n",
    "class ModelHelper:\n",
    "    def convert_model_to_sighting_table(obj):\n",
    "        s = SightingTable()\n",
    "        s.id = obj.id\n",
    "        s.sighting_type = obj.sighting_type\n",
    "        if obj.start_time:\n",
    "            s.start_time = obj.start_time\n",
    "        s.detection_type = obj.detection_type\n",
    "        if \"direct_software\" == obj.sighting_type:\n",
    "            s.software = obj.software_name\n",
    "        else:\n",
    "            s.software = \"\"\n",
    "        if hasattr(obj, \"hash\"):\n",
    "            s.hash = obj.hash\n",
    "        return s\n",
    "\n",
    "    def convert_model_to_technique_table(obj, sighting_id):\n",
    "        t = TechniqueTable()\n",
    "        if isinstance(obj, Technique):\n",
    "            technique_split = obj.technique_id.split(\".\")\n",
    "            t.technique_id = technique_split[0]\n",
    "            if len(technique_split) == 2:\n",
    "                t.sub_technique_id = technique_split[1]\n",
    "            if obj.platform:\n",
    "                t.platform = obj.platform\n",
    "            if obj.start_time:\n",
    "                t.start_time = obj.start_time\n",
    "            if obj.tactic:\n",
    "                t.tactic = obj.tactic\n",
    "            if obj.raw_data:\n",
    "                t.raw_data = obj.raw_data\n",
    "            t.sighting_id = sighting_id\n",
    "        return t\n"
   ]
  },
  {
   "cell_type": "code",
   "execution_count": null,
   "id": "20f6d100-d8ae-48a2-9af9-4c3596137eae",
   "metadata": {},
   "outputs": [],
   "source": []
  }
 ],
 "metadata": {
  "kernelspec": {
   "display_name": "Python 3 (ipykernel)",
   "language": "python",
   "name": "python3"
  },
  "language_info": {
   "codemirror_mode": {
    "name": "ipython",
    "version": 3
   },
   "file_extension": ".py",
   "mimetype": "text/x-python",
   "name": "python",
   "nbconvert_exporter": "python",
   "pygments_lexer": "ipython3",
   "version": "3.11.5"
  }
 },
 "nbformat": 4,
 "nbformat_minor": 5
}
