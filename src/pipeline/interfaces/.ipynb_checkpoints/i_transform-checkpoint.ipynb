{
 "cells": [
  {
   "cell_type": "code",
   "execution_count": 1,
   "id": "7994b21e-d58d-45be-8594-f2e26d6b612f",
   "metadata": {
    "tags": []
   },
   "outputs": [],
   "source": [
    "import abc\n",
    "\n",
    "\n",
    "class TransformInterface(abc.ABC):\n",
    "    @abc.abstractmethod\n",
    "    def transform(self, model):\n",
    "        pass  # pragma: no covers\n"
   ]
  },
  {
   "cell_type": "code",
   "execution_count": null,
   "id": "ccbe7629-4514-426f-8f7b-a01d150133fe",
   "metadata": {},
   "outputs": [],
   "source": []
  }
 ],
 "metadata": {
  "kernelspec": {
   "display_name": "Python 3 (ipykernel)",
   "language": "python",
   "name": "python3"
  },
  "language_info": {
   "codemirror_mode": {
    "name": "ipython",
    "version": 3
   },
   "file_extension": ".py",
   "mimetype": "text/x-python",
   "name": "python",
   "nbconvert_exporter": "python",
   "pygments_lexer": "ipython3",
   "version": "3.11.5"
  }
 },
 "nbformat": 4,
 "nbformat_minor": 5
}
