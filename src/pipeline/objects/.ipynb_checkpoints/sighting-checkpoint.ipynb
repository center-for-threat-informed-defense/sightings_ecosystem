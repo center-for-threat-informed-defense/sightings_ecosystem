{
 "cells": [
  {
   "cell_type": "code",
   "execution_count": 1,
   "id": "e10531ba-3ebb-4ca2-8a69-4431ef1655f4",
   "metadata": {
    "tags": []
   },
   "outputs": [
    {
     "ename": "ModuleNotFoundError",
     "evalue": "No module named 'marshmallow'",
     "output_type": "error",
     "traceback": [
      "\u001b[1;31m---------------------------------------------------------------------------\u001b[0m",
      "\u001b[1;31mModuleNotFoundError\u001b[0m                       Traceback (most recent call last)",
      "Cell \u001b[1;32mIn[1], line 1\u001b[0m\n\u001b[1;32m----> 1\u001b[0m \u001b[38;5;28;01mfrom\u001b[39;00m \u001b[38;5;21;01mmarshmallow\u001b[39;00m \u001b[38;5;28;01mimport\u001b[39;00m Schema, fields, post_load\n\u001b[0;32m      2\u001b[0m \u001b[38;5;28;01mfrom\u001b[39;00m \u001b[38;5;21;01mobjects\u001b[39;00m\u001b[38;5;21;01m.\u001b[39;00m\u001b[38;5;21;01mtechnique\u001b[39;00m \u001b[38;5;28;01mimport\u001b[39;00m TechniqueSchema\n\u001b[0;32m      3\u001b[0m \u001b[38;5;28;01mfrom\u001b[39;00m \u001b[38;5;21;01mobjects\u001b[39;00m\u001b[38;5;21;01m.\u001b[39;00m\u001b[38;5;21;01mvalidator\u001b[39;00m \u001b[38;5;28;01mimport\u001b[39;00m (\n\u001b[0;32m      4\u001b[0m     validate_attribution_type,\n\u001b[0;32m      5\u001b[0m     validate_detection_type,\n\u001b[1;32m   (...)\u001b[0m\n\u001b[0;32m      8\u001b[0m     validate_version,\n\u001b[0;32m      9\u001b[0m )\n",
      "\u001b[1;31mModuleNotFoundError\u001b[0m: No module named 'marshmallow'"
     ]
    }
   ],
   "source": [
    "from marshmallow import Schema, fields, post_load\n",
    "from objects.technique import TechniqueSchema\n",
    "from objects.validator import (\n",
    "    validate_attribution_type,\n",
    "    validate_detection_type,\n",
    "    validate_hash,\n",
    "    validate_sighting_type,\n",
    "    validate_version,\n",
    ")\n",
    "\n",
    "\n",
    "class Sighting:\n",
    "    def __init__(\n",
    "        self,\n",
    "        version,\n",
    "        id,\n",
    "        sighting_type,\n",
    "        start_time,\n",
    "        end_time,\n",
    "        detection_type,\n",
    "        techniques,\n",
    "        hash,\n",
    "        software_name,\n",
    "        sector,\n",
    "        country,\n",
    "        region,\n",
    "        size,\n",
    "        attribution_type,\n",
    "        attribution,\n",
    "        detection_source,\n",
    "        privilege_level,\n",
    "    ):\n",
    "        self.version = version\n",
    "        self.id = id\n",
    "        self.sighting_type = sighting_type\n",
    "        self.start_time = start_time\n",
    "        self.end_time = end_time\n",
    "        self.detection_type = detection_type\n",
    "        self.techniques = techniques\n",
    "        self.hash = hash\n",
    "        self.software_name = software_name\n",
    "        self.sector = sector\n",
    "        self.country = country\n",
    "        self.region = region\n",
    "        self.size = size\n",
    "        self.attribution_type = attribution_type\n",
    "        self.attribution = attribution\n",
    "        self.detection_source = detection_source\n",
    "        self.privilege_level = privilege_level\n",
    "\n",
    "    def __repr__(self):\n",
    "        time = self.start_time.strftime(\"%m/%d/%Y, %H:%M:%S\")\n",
    "        return \"{}({},{},{},{})\".format(type(self).__name__, self.id, self.sighting_type, time, self.detection_type)\n",
    "\n",
    "\n",
    "class SightingSchema(Schema):\n",
    "    version = fields.Str(validate=validate_version)\n",
    "    id = fields.Str()\n",
    "    sighting_type = fields.Str(validate=validate_sighting_type)\n",
    "    start_time = fields.DateTime()\n",
    "    end_time = fields.Str(missing=None)  # Some are 00:00T...\n",
    "    detection_type = fields.Str(validate=validate_detection_type)\n",
    "    techniques = fields.List(fields.Nested(TechniqueSchema()))\n",
    "    hash = fields.Str(validate=validate_hash, missing=None)\n",
    "    software_name = fields.Str(missing=None)\n",
    "    sector = fields.List(fields.Str(missing=None), missing=None)\n",
    "    country = fields.Str(missing=None)\n",
    "    region = fields.Str(missing=None)\n",
    "    size = fields.Str(missing=None)\n",
    "    attribution = fields.Str(valdate=validate_attribution_type, missing=None)\n",
    "    attribution_type = fields.Str(missing=None)\n",
    "    detection_source = fields.Str(missing=None)\n",
    "    privilege_level = fields.Str(missing=None)\n",
    "\n",
    "    @post_load\n",
    "    def make_sighting(self, data, **kwargs):\n",
    "        return Sighting(**data)\n"
   ]
  },
  {
   "cell_type": "code",
   "execution_count": null,
   "id": "0fecebbd-e71b-4286-85bd-d0e07ffe1506",
   "metadata": {},
   "outputs": [],
   "source": []
  }
 ],
 "metadata": {
  "kernelspec": {
   "display_name": "Python 3 (ipykernel)",
   "language": "python",
   "name": "python3"
  },
  "language_info": {
   "codemirror_mode": {
    "name": "ipython",
    "version": 3
   },
   "file_extension": ".py",
   "mimetype": "text/x-python",
   "name": "python",
   "nbconvert_exporter": "python",
   "pygments_lexer": "ipython3",
   "version": "3.11.5"
  }
 },
 "nbformat": 4,
 "nbformat_minor": 5
}
