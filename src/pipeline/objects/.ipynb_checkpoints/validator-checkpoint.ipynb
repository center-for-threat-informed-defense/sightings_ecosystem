{
 "cells": [
  {
   "cell_type": "code",
   "execution_count": 1,
   "id": "b9dcabbb-e5b3-441c-9a8d-d3e93a596036",
   "metadata": {
    "tags": []
   },
   "outputs": [
    {
     "ename": "ModuleNotFoundError",
     "evalue": "No module named 'marshmallow'",
     "output_type": "error",
     "traceback": [
      "\u001b[1;31m---------------------------------------------------------------------------\u001b[0m",
      "\u001b[1;31mModuleNotFoundError\u001b[0m                       Traceback (most recent call last)",
      "Cell \u001b[1;32mIn[1], line 3\u001b[0m\n\u001b[0;32m      1\u001b[0m \u001b[38;5;28;01mimport\u001b[39;00m \u001b[38;5;21;01mre\u001b[39;00m\n\u001b[1;32m----> 3\u001b[0m \u001b[38;5;28;01mfrom\u001b[39;00m \u001b[38;5;21;01mmarshmallow\u001b[39;00m \u001b[38;5;28;01mimport\u001b[39;00m ValidationError\n\u001b[0;32m      6\u001b[0m \u001b[38;5;28;01mdef\u001b[39;00m \u001b[38;5;21mvalidate_version\u001b[39m(s):\n\u001b[0;32m      7\u001b[0m     \u001b[38;5;28;01mif\u001b[39;00m s \u001b[38;5;241m!=\u001b[39m \u001b[38;5;124m\"\u001b[39m\u001b[38;5;124m1.0\u001b[39m\u001b[38;5;124m\"\u001b[39m:\n",
      "\u001b[1;31mModuleNotFoundError\u001b[0m: No module named 'marshmallow'"
     ]
    }
   ],
   "source": [
    "import re\n",
    "\n",
    "from marshmallow import ValidationError\n",
    "\n",
    "\n",
    "def validate_version(s):\n",
    "    if s != \"1.0\":\n",
    "        raise ValidationError(\"Invalid version information.\")\n",
    "\n",
    "\n",
    "def validate_sighting_type(s):\n",
    "    if s != \"direct_technique\" and s != \"direct_software\" and s != \"indirect_software\" and s != \"software_name\":\n",
    "        raise ValidationError(\"Invalid sighting_type.\")\n",
    "\n",
    "\n",
    "def validate_detection_type(s):\n",
    "    if s != \"human_validated\" and s != \"machine_validated\" and s != \"raw\":\n",
    "        raise ValidationError(\"Invalid detection_type.\")\n",
    "\n",
    "\n",
    "def validate_attribution_type(s):\n",
    "    if s != \"group\" and s != \"incident\" and s != \"software\":\n",
    "        raise ValidationError(\"Invalid attribution_type.\")\n",
    "\n",
    "\n",
    "HASH_TYPE_REGEX = {\n",
    "    re.compile(r\"^[a-f0-9]{32}(:.+)?$\", re.IGNORECASE): [\n",
    "        \"MD5\",\n",
    "        \"MD4\",\n",
    "        \"MD2\",\n",
    "        \"Double MD5\",\n",
    "        \"LM\",\n",
    "        \"RIPEMD-128\",\n",
    "        \"Haval-128\",\n",
    "        \"Tiger-128\",\n",
    "        \"Skein-256(128)\",\n",
    "        \"Skein-512(128\",\n",
    "        \"Lotus Notes/Domino 5\",\n",
    "        \"Skype\",\n",
    "        \"ZipMonster\",\n",
    "        \"PrestaShop\",\n",
    "    ],\n",
    "    re.compile(r\"^[a-f0-9]{40}(:.+)?$\", re.IGNORECASE): [\n",
    "        \"SHA-1\",\n",
    "        \"Double SHA-1\",\n",
    "        \"RIPEMD-160\",\n",
    "        \"Haval-160\",\n",
    "        \"Tiger-160\",\n",
    "        \"HAS-160\",\n",
    "        \"LinkedIn\",\n",
    "        \"Skein-256(160)\",\n",
    "        \"Skein-512(160)\",\n",
    "        \"MangoWeb Enhanced CMS\",\n",
    "    ],\n",
    "    re.compile(r\"^[a-f0-9]{64}(:.+)?$\", re.IGNORECASE): [\n",
    "        \"SHA-256\",\n",
    "        \"RIPEMD-256\",\n",
    "        \"SHA3-256\",\n",
    "        \"Haval-256\",\n",
    "        \"GOST R 34.11-94\",\n",
    "        \"GOST CryptoPro S-Box\",\n",
    "        \"Skein-256\",\n",
    "        \"Skein-512(256)\",\n",
    "        \"Ventrilo\",\n",
    "    ],\n",
    "}\n",
    "\n",
    "\n",
    "def validate_hash(s):\n",
    "    found = False\n",
    "    for algorithm in HASH_TYPE_REGEX:\n",
    "        if algorithm.match(s):\n",
    "            found = True\n",
    "    if not found and s != \"0\":\n",
    "        raise ValidationError(\"Invalid hash.\")\n"
   ]
  },
  {
   "cell_type": "code",
   "execution_count": null,
   "id": "f8160b58-32c5-47d5-8853-8333cb7897f0",
   "metadata": {},
   "outputs": [],
   "source": []
  }
 ],
 "metadata": {
  "kernelspec": {
   "display_name": "Python 3 (ipykernel)",
   "language": "python",
   "name": "python3"
  },
  "language_info": {
   "codemirror_mode": {
    "name": "ipython",
    "version": 3
   },
   "file_extension": ".py",
   "mimetype": "text/x-python",
   "name": "python",
   "nbconvert_exporter": "python",
   "pygments_lexer": "ipython3",
   "version": "3.11.5"
  }
 },
 "nbformat": 4,
 "nbformat_minor": 5
}
