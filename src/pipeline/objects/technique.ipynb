{
 "cells": [
  {
   "cell_type": "code",
   "execution_count": 1,
   "id": "ba4d20c0-2daa-4656-a244-d80424ff996e",
   "metadata": {
    "tags": []
   },
   "outputs": [
    {
     "ename": "ModuleNotFoundError",
     "evalue": "No module named 'marshmallow'",
     "output_type": "error",
     "traceback": [
      "\u001b[1;31m---------------------------------------------------------------------------\u001b[0m",
      "\u001b[1;31mModuleNotFoundError\u001b[0m                       Traceback (most recent call last)",
      "Cell \u001b[1;32mIn[1], line 1\u001b[0m\n\u001b[1;32m----> 1\u001b[0m \u001b[38;5;28;01mfrom\u001b[39;00m \u001b[38;5;21;01mmarshmallow\u001b[39;00m \u001b[38;5;28;01mimport\u001b[39;00m Schema, fields, post_load\n\u001b[0;32m      4\u001b[0m \u001b[38;5;28;01mclass\u001b[39;00m \u001b[38;5;21;01mTechnique\u001b[39;00m:\n\u001b[0;32m      5\u001b[0m     \u001b[38;5;28;01mdef\u001b[39;00m \u001b[38;5;21m__init__\u001b[39m(\u001b[38;5;28mself\u001b[39m, technique_id, platform, start_time, end_time, tactic, raw_data):\n",
      "\u001b[1;31mModuleNotFoundError\u001b[0m: No module named 'marshmallow'"
     ]
    }
   ],
   "source": [
    "from marshmallow import Schema, fields, post_load\n",
    "\n",
    "\n",
    "class Technique:\n",
    "    def __init__(self, technique_id, platform, start_time, end_time, tactic, raw_data):\n",
    "        self.technique_id = technique_id\n",
    "        self.platform = platform\n",
    "        self.start_time = start_time\n",
    "        self.end_time = end_time\n",
    "        self.tactic = tactic\n",
    "        self.raw_data = raw_data\n",
    "\n",
    "    def __repr__(self):\n",
    "        return \"{}({})\".format(type(self).__name__, self.technique_id)\n",
    "\n",
    "\n",
    "class TechniqueSchema(Schema):\n",
    "    technique_id = fields.Str()\n",
    "    platform = fields.Str(missing=None)\n",
    "    start_time = fields.DateTime(missing=None)\n",
    "    end_time = fields.Str(missing=None)  # Some are 00:00T...\n",
    "    tactic = fields.Str(missing=None)\n",
    "    raw_data = fields.List(fields.Dict(), missing=None)\n",
    "\n",
    "    @post_load\n",
    "    def make_technique(self, data, **kwargs):\n",
    "        return Technique(**data)\n"
   ]
  },
  {
   "cell_type": "code",
   "execution_count": null,
   "id": "aa15b4f7-3248-4f66-bd8f-67870013dd59",
   "metadata": {},
   "outputs": [],
   "source": []
  }
 ],
 "metadata": {
  "kernelspec": {
   "display_name": "Python 3 (ipykernel)",
   "language": "python",
   "name": "python3"
  },
  "language_info": {
   "codemirror_mode": {
    "name": "ipython",
    "version": 3
   },
   "file_extension": ".py",
   "mimetype": "text/x-python",
   "name": "python",
   "nbconvert_exporter": "python",
   "pygments_lexer": "ipython3",
   "version": "3.11.5"
  }
 },
 "nbformat": 4,
 "nbformat_minor": 5
}
